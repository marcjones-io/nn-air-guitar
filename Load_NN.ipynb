{
 "cells": [
  {
   "cell_type": "code",
   "execution_count": null,
   "metadata": {},
   "outputs": [],
   "source": [
    "import tensorflow as tf\n",
    "import serial\n",
    "import numpy as np\n",
    "from pythonosc import osc_message_builder\n",
    "from pythonosc import udp_client\n",
    "from sklearn import datasets\n",
    "from sklearn.model_selection import train_test_split"
   ]
  },
  {
   "cell_type": "code",
   "execution_count": null,
   "metadata": {},
   "outputs": [],
   "source": [
    "RANDOM_SEED = 42\n",
    "tf.set_random_seed(RANDOM_SEED)\n",
    "\n",
    "img_size_flat=4;\n",
    "num_classes = 3;\n",
    "x = tf.placeholder(tf.float32, [None, img_size_flat])\n",
    "y_true = tf.placeholder(tf.float32, [None, num_classes])\n",
    "y_true_cls = tf.placeholder(tf.int64, [None])\n",
    "weights = tf.Variable(tf.zeros([img_size_flat, num_classes]))\n",
    "biases = tf.Variable(tf.zeros([num_classes]))\n",
    "\n",
    "logits = tf.matmul(x, weights) + biases\n",
    "y_pred = tf.nn.softmax(logits)\n",
    "y_pred_cls = tf.argmax(y_pred, axis=1)\n",
    "\n",
    "cross_entropy = tf.nn.softmax_cross_entropy_with_logits(logits=logits,\n",
    "                                                        labels=y_true)\n",
    "\n",
    "cost = tf.reduce_mean(cross_entropy)\n",
    "optimizer = tf.train.GradientDescentOptimizer(learning_rate=0.5).minimize(cost)\n",
    "correct_prediction = tf.equal(y_pred_cls, y_true_cls)\n",
    "accuracy = tf.reduce_mean(tf.cast(correct_prediction, tf.float32))\n",
    "\n",
    "session = tf.Session()\n",
    "session.run(tf.global_variables_initializer())\n",
    "saver = tf.train.Saver()\n",
    "saver.restore(session, './Neural_Chords/trained')"
   ]
  },
  {
   "cell_type": "code",
   "execution_count": null,
   "metadata": {},
   "outputs": [],
   "source": [
    "def PlayChord(Note):\n",
    "    if Note == 0:\n",
    "        base = 60 \n",
    "    elif  Note == 1:\n",
    "        base = 65\n",
    "    elif Note == 2:\n",
    "        base = 67\n",
    "    fourth = base+4\n",
    "    seventh = base+7\n",
    "    vel = 127\n",
    "    chord_as_message = str(base)+' '+str(vel)+' '+str(fourth)+' '+str(vel)+' '+str(seventh)+' '+str(vel)\n",
    "    return chord_as_message"
   ]
  },
  {
   "cell_type": "code",
   "execution_count": null,
   "metadata": {},
   "outputs": [],
   "source": [
    "arduinoSerialData = serial.Serial('com6',9600)\n",
    "client = udp_client.UDPClient('127.0.0.1', 8000)\n",
    "msg = osc_message_builder.OscMessageBuilder(address = '/glove')\n",
    "while 1==1:\n",
    "     #Create Serial port object called arduinoSerialData\n",
    "    Hand=np.zeros([1,4])\n",
    "    j = 0;\n",
    "    while(j<4):\n",
    "        Hand[0,j] = int(arduinoSerialData.readline());\n",
    "        j=j+1;\n",
    "    output = session.run(y_pred_cls, {x:Hand})\n",
    "    print(PlayChord(output[0]))\n",
    "\n",
    "arduinoSerialData.close()"
   ]
  },
  {
   "cell_type": "code",
   "execution_count": null,
   "metadata": {},
   "outputs": [],
   "source": [
    "arduinoSerialData.close()"
   ]
  }
 ],
 "metadata": {
  "kernelspec": {
   "display_name": "Python 3",
   "language": "python",
   "name": "python3"
  },
  "language_info": {
   "codemirror_mode": {
    "name": "ipython",
    "version": 3
   },
   "file_extension": ".py",
   "mimetype": "text/x-python",
   "name": "python",
   "nbconvert_exporter": "python",
   "pygments_lexer": "ipython3",
   "version": "3.6.5"
  }
 },
 "nbformat": 4,
 "nbformat_minor": 2
}
